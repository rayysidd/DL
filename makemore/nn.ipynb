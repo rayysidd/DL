{
 "cells": [
  {
   "cell_type": "code",
   "execution_count": 1,
   "id": "0ebc3d07",
   "metadata": {},
   "outputs": [],
   "source": [
    "import torch"
   ]
  },
  {
   "cell_type": "code",
   "execution_count": 3,
   "id": "1a430f0a",
   "metadata": {},
   "outputs": [
    {
     "data": {
      "text/plain": [
       "['emma',\n",
       " 'olivia',\n",
       " 'ava',\n",
       " 'isabella',\n",
       " 'sophia',\n",
       " 'charlotte',\n",
       " 'mia',\n",
       " 'amelia',\n",
       " 'harper',\n",
       " 'evelyn']"
      ]
     },
     "execution_count": 3,
     "metadata": {},
     "output_type": "execute_result"
    }
   ],
   "source": [
    "words = open('names.txt','r').read().splitlines()\n",
    "words[:10]"
   ]
  },
  {
   "cell_type": "code",
   "execution_count": 4,
   "id": "beab2190",
   "metadata": {},
   "outputs": [],
   "source": [
    "chars = sorted(list(set(''.join(words))))\n",
    "stoi = {s:i+1 for i,s in enumerate(chars)}\n",
    "stoi['.'] = 0\n",
    "itos = {i:s for s,i in stoi.items()}"
   ]
  },
  {
   "cell_type": "markdown",
   "id": "cfbe0a7e",
   "metadata": {},
   "source": [
    "Create the dataset"
   ]
  },
  {
   "cell_type": "code",
   "execution_count": 17,
   "id": "938133e8",
   "metadata": {},
   "outputs": [],
   "source": [
    "xs,ys = [],[]\n",
    "\n",
    "for w in words:\n",
    "    chs=['.']+list(w)+['.']\n",
    "    for ch1,ch2 in zip(chs,chs[1:]):\n",
    "        ix1=stoi[ch1]\n",
    "        ix2=stoi[ch2]\n",
    "        xs.append(ix1)\n",
    "        ys.append(ix2)\n",
    "xs=torch.tensor(xs)\n",
    "ys=torch.tensor(ys)"
   ]
  },
  {
   "cell_type": "code",
   "execution_count": 18,
   "id": "b6213a76",
   "metadata": {},
   "outputs": [
    {
     "name": "stdout",
     "output_type": "stream",
     "text": [
      "xs=tensor([ 0,  5, 13,  ..., 25, 26, 24])\n",
      "ys=tensor([ 5, 13, 13,  ..., 26, 24,  0])\n"
     ]
    }
   ],
   "source": [
    "print(f'{xs=}')\n",
    "print(f'{ys=}')"
   ]
  },
  {
   "cell_type": "code",
   "execution_count": 19,
   "id": "f13d85fd",
   "metadata": {},
   "outputs": [
    {
     "name": "stdout",
     "output_type": "stream",
     "text": [
      "Number of examples 228146\n"
     ]
    }
   ],
   "source": [
    "print(f'Number of examples {len(xs)}')"
   ]
  },
  {
   "cell_type": "markdown",
   "id": "57c32d9f",
   "metadata": {},
   "source": [
    "intitialise the network"
   ]
  },
  {
   "cell_type": "code",
   "execution_count": null,
   "id": "0cb5b7f7",
   "metadata": {},
   "outputs": [],
   "source": [
    "# randomly initialize 27 neurons' weights. each neuron receives 27 inputs\n",
    "\n",
    "g = torch.Generator().manual_seed(2147483647)\n",
    "W = torch.rand((27,27),generator=g,requires_grad=True)"
   ]
  },
  {
   "cell_type": "markdown",
   "id": "91740ab3",
   "metadata": {},
   "source": [
    "Optimisation loop"
   ]
  },
  {
   "cell_type": "code",
   "execution_count": 21,
   "id": "e1d78a3f",
   "metadata": {},
   "outputs": [],
   "source": [
    "import torch.nn.functional as F"
   ]
  },
  {
   "cell_type": "code",
   "execution_count": 32,
   "id": "a9ee9113",
   "metadata": {},
   "outputs": [
    {
     "name": "stdout",
     "output_type": "stream",
     "text": [
      "2.4818949699401855\n",
      "2.4818878173828125\n",
      "2.4818809032440186\n",
      "2.4818737506866455\n",
      "2.4818668365478516\n",
      "2.4818599224090576\n",
      "2.4818530082702637\n",
      "2.4818460941314697\n",
      "2.4818389415740967\n",
      "2.48183274269104\n",
      "2.481825828552246\n",
      "2.4818193912506104\n",
      "2.4818124771118164\n",
      "2.4818062782287598\n",
      "2.481799364089966\n",
      "2.4817934036254883\n",
      "2.4817867279052734\n",
      "2.4817802906036377\n",
      "2.481774091720581\n",
      "2.4817678928375244\n",
      "2.481761932373047\n",
      "2.481755256652832\n",
      "2.4817490577697754\n",
      "2.481743574142456\n",
      "2.4817371368408203\n",
      "2.481731414794922\n",
      "2.4817254543304443\n",
      "2.481719493865967\n",
      "2.4817137718200684\n",
      "2.481707811355591\n",
      "2.4817020893096924\n",
      "2.481696367263794\n",
      "2.4816904067993164\n",
      "2.481685161590576\n",
      "2.4816792011260986\n",
      "2.4816739559173584\n",
      "2.48166823387146\n",
      "2.4816627502441406\n",
      "2.4816575050354004\n",
      "2.481651782989502\n",
      "2.4816465377807617\n",
      "2.4816410541534424\n",
      "2.481635570526123\n",
      "2.481630325317383\n",
      "2.4816253185272217\n",
      "2.4816200733184814\n",
      "2.481614828109741\n",
      "2.48160982131958\n",
      "2.48160457611084\n",
      "2.481599807739258\n",
      "2.4815945625305176\n",
      "2.4815895557403564\n",
      "2.4815845489501953\n",
      "2.481579542160034\n",
      "2.481574773788452\n",
      "2.481569766998291\n",
      "2.48156476020813\n",
      "2.481560468673706\n",
      "2.481555461883545\n",
      "2.481550931930542\n",
      "2.48154616355896\n",
      "2.481541395187378\n",
      "2.481536865234375\n",
      "2.481532096862793\n",
      "2.48152756690979\n",
      "2.481522798538208\n",
      "2.481518268585205\n",
      "2.4815139770507812\n",
      "2.481509208679199\n",
      "2.4815049171447754\n",
      "2.4815006256103516\n",
      "2.4814960956573486\n",
      "2.481491804122925\n",
      "2.481487512588501\n",
      "2.481482982635498\n",
      "2.4814789295196533\n",
      "2.4814743995666504\n",
      "2.4814698696136475\n",
      "2.481466054916382\n",
      "2.481462240219116\n",
      "2.481457471847534\n",
      "2.4814531803131104\n",
      "2.481449604034424\n",
      "2.481445074081421\n",
      "2.481441020965576\n",
      "2.4814372062683105\n",
      "2.481433153152466\n",
      "2.481429100036621\n",
      "2.4814250469207764\n",
      "2.4814212322235107\n",
      "2.481417179107666\n",
      "2.4814133644104004\n",
      "2.4814095497131348\n",
      "2.481405735015869\n",
      "2.4814016819000244\n",
      "2.481397867202759\n",
      "2.481393814086914\n",
      "2.4813904762268066\n",
      "2.481386423110962\n",
      "2.4813830852508545\n"
     ]
    }
   ],
   "source": [
    "for k in range(100):  # Run the training loop for 100 iterations\n",
    "\n",
    "    # === FORWARD PASS ===\n",
    "\n",
    "    # Convert input character indices into one-hot encoded vectors.\n",
    "    # xs: tensor of shape (batch_size,), each value is an index from 0 to 26\n",
    "    # One-hot encoding gives shape: (batch_size, 27)\n",
    "    # Example: index 2 -> [0, 0, 1, 0, ..., 0]\n",
    "    xenc = F.one_hot(xs, num_classes=27).float()\n",
    "\n",
    "    # Compute logits by matrix multiplication\n",
    "    # W: weight matrix of shape (27, 27)\n",
    "    # xenc @ W → (batch_size, 27), each row is a raw prediction (unnormalized)\n",
    "    logits = xenc @ W\n",
    "\n",
    "    # === SOFTMAX FUNCTION ===\n",
    "\n",
    "    # Convert logits into exponentiated values (numerator of softmax)\n",
    "    # This is done instead of calling torch.softmax to reinforce the manual math\n",
    "    counts = logits.exp()\n",
    "\n",
    "    # Normalize to get probabilities across each row (i.e., per sample)\n",
    "    # Sum across dim=1 to get the denominator of softmax\n",
    "    # probs: shape (batch_size, 27), each row sums to 1\n",
    "    probs = counts / counts.sum(1, keepdims=True)\n",
    "\n",
    "    # === LOSS CALCULATION ===\n",
    "\n",
    "    # Negative log-likelihood:\n",
    "    # For each sample, pick the probability corresponding to the correct next character (ys)\n",
    "    # torch.arange(len(xs)) creates row indices: [0, 1, 2, ..., batch_size-1]\n",
    "    # probs[rows, ys] gives the predicted prob for the true label\n",
    "    # .log(): log-likelihood → negative for loss\n",
    "    # .mean(): average over batch\n",
    "    # Add L2 regularization: encourages smaller weights to reduce overfitting\n",
    "    loss = -probs[torch.arange(len(xs)), ys].log().mean() + 0.01 * (W ** 2).mean()\n",
    "\n",
    "    # Print loss at each iteration to monitor training\n",
    "    print(loss.item())\n",
    "\n",
    "    # === BACKWARD PASS ===\n",
    "\n",
    "    # Zero out previous gradients manually (no optimizer used)\n",
    "    W.grad = None\n",
    "\n",
    "    # Backpropagate to compute gradient of loss with respect to W\n",
    "    loss.backward()\n",
    "\n",
    "    # === WEIGHT UPDATE ===\n",
    "\n",
    "    # Perform stochastic gradient descent manually\n",
    "    # W.grad: gradient of loss w.r.t. W\n",
    "    # Learning rate = 50 (large, to speed up convergence in small examples)\n",
    "    # .data is used to perform in-place updates without interfering with autograd\n",
    "    W.data -= 50 * W.grad\n"
   ]
  },
  {
   "cell_type": "code",
   "execution_count": null,
   "id": "de4c51ce",
   "metadata": {},
   "outputs": [],
   "source": []
  }
 ],
 "metadata": {
  "kernelspec": {
   "display_name": "Python (nbenv-3.13.1)",
   "language": "python",
   "name": "nbenv-3.13.1"
  },
  "language_info": {
   "codemirror_mode": {
    "name": "ipython",
    "version": 3
   },
   "file_extension": ".py",
   "mimetype": "text/x-python",
   "name": "python",
   "nbconvert_exporter": "python",
   "pygments_lexer": "ipython3",
   "version": "3.13.1"
  }
 },
 "nbformat": 4,
 "nbformat_minor": 5
}
