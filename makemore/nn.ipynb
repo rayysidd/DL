{
 "cells": [
  {
   "cell_type": "code",
   "execution_count": 50,
   "id": "0ebc3d07",
   "metadata": {},
   "outputs": [],
   "source": [
    "import torch"
   ]
  },
  {
   "cell_type": "code",
   "execution_count": 51,
   "id": "1a430f0a",
   "metadata": {},
   "outputs": [
    {
     "data": {
      "text/plain": [
       "['emma',\n",
       " 'olivia',\n",
       " 'ava',\n",
       " 'isabella',\n",
       " 'sophia',\n",
       " 'charlotte',\n",
       " 'mia',\n",
       " 'amelia',\n",
       " 'harper',\n",
       " 'evelyn']"
      ]
     },
     "execution_count": 51,
     "metadata": {},
     "output_type": "execute_result"
    }
   ],
   "source": [
    "words = open('names.txt','r').read().splitlines()\n",
    "words[:10]"
   ]
  },
  {
   "cell_type": "code",
   "execution_count": 52,
   "id": "beab2190",
   "metadata": {},
   "outputs": [],
   "source": [
    "chars = sorted(list(set(''.join(words))))\n",
    "stoi = {s:i+1 for i,s in enumerate(chars)}\n",
    "stoi['.'] = 0\n",
    "itos = {i:s for s,i in stoi.items()}"
   ]
  },
  {
   "cell_type": "markdown",
   "id": "cfbe0a7e",
   "metadata": {},
   "source": [
    "Create the dataset"
   ]
  },
  {
   "cell_type": "code",
   "execution_count": 53,
   "id": "938133e8",
   "metadata": {},
   "outputs": [],
   "source": [
    "xs,ys = [],[]\n",
    "\n",
    "for w in words:\n",
    "    chs=['.']+list(w)+['.']\n",
    "    for ch1,ch2 in zip(chs,chs[1:]):\n",
    "        ix1=stoi[ch1]\n",
    "        ix2=stoi[ch2]\n",
    "        xs.append(ix1)\n",
    "        ys.append(ix2)\n",
    "xs=torch.tensor(xs)\n",
    "ys=torch.tensor(ys)"
   ]
  },
  {
   "cell_type": "code",
   "execution_count": 54,
   "id": "b6213a76",
   "metadata": {},
   "outputs": [
    {
     "name": "stdout",
     "output_type": "stream",
     "text": [
      "xs=tensor([ 0,  5, 13,  ..., 25, 26, 24])\n",
      "ys=tensor([ 5, 13, 13,  ..., 26, 24,  0])\n"
     ]
    }
   ],
   "source": [
    "print(f'{xs=}')\n",
    "print(f'{ys=}')"
   ]
  },
  {
   "cell_type": "code",
   "execution_count": 55,
   "id": "f13d85fd",
   "metadata": {},
   "outputs": [
    {
     "name": "stdout",
     "output_type": "stream",
     "text": [
      "Number of examples 228146\n"
     ]
    }
   ],
   "source": [
    "print(f'Number of examples {len(xs)}')"
   ]
  },
  {
   "cell_type": "markdown",
   "id": "57c32d9f",
   "metadata": {},
   "source": [
    "intitialise the network"
   ]
  },
  {
   "cell_type": "code",
   "execution_count": 56,
   "id": "0cb5b7f7",
   "metadata": {},
   "outputs": [],
   "source": [
    "# randomly initialize 27 neurons' weights. each neuron receives 27 inputs\n",
    "\n",
    "g = torch.Generator().manual_seed(2147483647)\n",
    "W = torch.rand((27,27),generator=g,requires_grad=True)"
   ]
  },
  {
   "cell_type": "markdown",
   "id": "91740ab3",
   "metadata": {},
   "source": [
    "Optimisation loop"
   ]
  },
  {
   "cell_type": "code",
   "execution_count": 57,
   "id": "e1d78a3f",
   "metadata": {},
   "outputs": [],
   "source": [
    "import torch.nn.functional as F"
   ]
  },
  {
   "cell_type": "code",
   "execution_count": 58,
   "id": "a9ee9113",
   "metadata": {},
   "outputs": [
    {
     "name": "stdout",
     "output_type": "stream",
     "text": [
      "3.3630006313323975\n",
      "3.1034915447235107\n",
      "2.9455957412719727\n",
      "2.848205804824829\n",
      "2.7813658714294434\n",
      "2.7336273193359375\n",
      "2.698446750640869\n",
      "2.671607494354248\n",
      "2.65045166015625\n",
      "2.6333115100860596\n",
      "2.6191165447235107\n",
      "2.60715651512146\n",
      "2.596938371658325\n",
      "2.5881083011627197\n",
      "2.5804033279418945\n",
      "2.5736238956451416\n",
      "2.5676162242889404\n",
      "2.562258005142212\n",
      "2.5574517250061035\n",
      "2.5531182289123535\n",
      "2.5491929054260254\n",
      "2.545621156692505\n",
      "2.5423591136932373\n",
      "2.5393683910369873\n",
      "2.5366172790527344\n",
      "2.5340778827667236\n",
      "2.5317282676696777\n",
      "2.5295469760894775\n",
      "2.5275180339813232\n",
      "2.525625228881836\n",
      "2.5238564014434814\n",
      "2.5221996307373047\n",
      "2.5206446647644043\n",
      "2.519183397293091\n",
      "2.5178072452545166\n",
      "2.516509532928467\n",
      "2.5152838230133057\n",
      "2.5141243934631348\n",
      "2.513026237487793\n",
      "2.5119848251342773\n",
      "2.5109963417053223\n",
      "2.510056734085083\n",
      "2.5091629028320312\n",
      "2.5083110332489014\n",
      "2.5074994564056396\n",
      "2.5067245960235596\n",
      "2.5059847831726074\n",
      "2.505277633666992\n",
      "2.504600763320923\n",
      "2.503952741622925\n",
      "2.5033316612243652\n",
      "2.5027363300323486\n",
      "2.5021650791168213\n",
      "2.5016162395477295\n",
      "2.501089096069336\n",
      "2.500582218170166\n",
      "2.5000946521759033\n",
      "2.4996252059936523\n",
      "2.499173164367676\n",
      "2.498737335205078\n",
      "2.4983174800872803\n",
      "2.4979119300842285\n",
      "2.497520923614502\n",
      "2.497143268585205\n",
      "2.4967784881591797\n",
      "2.4964258670806885\n",
      "2.4960849285125732\n",
      "2.4957549571990967\n",
      "2.495435953140259\n",
      "2.495126962661743\n",
      "2.4948275089263916\n",
      "2.494537591934204\n",
      "2.4942567348480225\n",
      "2.4939846992492676\n",
      "2.493720293045044\n",
      "2.4934639930725098\n",
      "2.493215560913086\n",
      "2.492974042892456\n",
      "2.492739677429199\n",
      "2.4925119876861572\n",
      "2.492290735244751\n",
      "2.4920756816864014\n",
      "2.4918670654296875\n",
      "2.4916632175445557\n",
      "2.4914660453796387\n",
      "2.4912734031677246\n",
      "2.49108624458313\n",
      "2.4909043312072754\n",
      "2.490726947784424\n",
      "2.490554094314575\n",
      "2.4903860092163086\n",
      "2.4902217388153076\n",
      "2.4900619983673096\n",
      "2.4899063110351562\n",
      "2.4897544384002686\n",
      "2.4896066188812256\n",
      "2.4894626140594482\n",
      "2.489321231842041\n",
      "2.4891841411590576\n",
      "2.4890499114990234\n"
     ]
    }
   ],
   "source": [
    "for k in range(100):  # Run the training loop for 100 iterations\n",
    "\n",
    "    # === FORWARD PASS ===\n",
    "\n",
    "    # Convert input character indices into one-hot encoded vectors.\n",
    "    # xs: tensor of shape (batch_size,), each value is an index from 0 to 26\n",
    "    # One-hot encoding gives shape: (batch_size, 27)\n",
    "    # Example: index 2 -> [0, 0, 1, 0, ..., 0]\n",
    "    xenc = F.one_hot(xs, num_classes=27).float()\n",
    "\n",
    "    # Compute logits by matrix multiplication\n",
    "    # W: weight matrix of shape (27, 27)\n",
    "    # xenc @ W → (batch_size, 27), each row is a raw prediction (unnormalized)\n",
    "    logits = xenc @ W\n",
    "\n",
    "    # === SOFTMAX FUNCTION ===\n",
    "\n",
    "    # Convert logits into exponentiated values (numerator of softmax)\n",
    "    # This is done instead of calling torch.softmax to reinforce the manual math\n",
    "    counts = logits.exp()\n",
    "\n",
    "    # Normalize to get probabilities across each row (i.e., per sample)\n",
    "    # Sum across dim=1 to get the denominator of softmax\n",
    "    # probs: shape (batch_size, 27), each row sums to 1\n",
    "    probs = counts / counts.sum(1, keepdims=True)\n",
    "\n",
    "    # === LOSS CALCULATION ===\n",
    "\n",
    "    # Negative log-likelihood:\n",
    "    # For each sample, pick the probability corresponding to the correct next character (ys)\n",
    "    # torch.arange(len(xs)) creates row indices: [0, 1, 2, ..., batch_size-1]\n",
    "    # probs[rows, ys] gives the predicted prob for the true label\n",
    "    # .log(): log-likelihood → negative for loss\n",
    "    # .mean(): average over batch\n",
    "    # Add L2 regularization: encourages smaller weights to reduce overfitting\n",
    "    loss = -probs[torch.arange(len(xs)), ys].log().mean() + 0.01 * (W ** 2).mean()\n",
    "\n",
    "    # Print loss at each iteration to monitor training\n",
    "    print(loss.item())\n",
    "\n",
    "    # === BACKWARD PASS ===\n",
    "\n",
    "    # Zero out previous gradients manually (no optimizer used)\n",
    "    W.grad = None\n",
    "\n",
    "    # Backpropagate to compute gradient of loss with respect to W\n",
    "    loss.backward()\n",
    "\n",
    "    # === WEIGHT UPDATE ===\n",
    "\n",
    "    # Perform stochastic gradient descent manually\n",
    "    # W.grad: gradient of loss w.r.t. W\n",
    "    # Learning rate = 50 (large, to speed up convergence in small examples)\n",
    "    # .data is used to perform in-place updates without interfering with autograd\n",
    "    W.data -= 50 * W.grad\n"
   ]
  },
  {
   "cell_type": "markdown",
   "id": "448b5bfa",
   "metadata": {},
   "source": [
    "Sample generation"
   ]
  },
  {
   "cell_type": "code",
   "execution_count": null,
   "id": "de4c51ce",
   "metadata": {},
   "outputs": [
    {
     "name": "stdout",
     "output_type": "stream",
     "text": [
      "cexze.\n",
      "momasurailezityha.\n",
      "konimittain.\n",
      "llayn.\n",
      "ka.\n"
     ]
    }
   ],
   "source": [
    "import torch\n",
    "import torch.nn.functional as F\n",
    "\n",
    "# Assuming W is defined elsewhere, but move it to CPU to be safe\n",
    "W = W.cpu()\n",
    "\n",
    "# Vocabulary index to character (make sure this exists)\n",
    "# Example: itos = ['.', 'a', 'b', ..., 'z']\n",
    "# Ensure '.' is index 0\n",
    "# itos = ['.'] + list('abcdefghijklmnopqrstuvwxyz')  # If needed\n",
    "\n",
    "g = torch.Generator()\n",
    "g.manual_seed(2147483647)  # For reproducibility\n",
    "\n",
    "for i in range(5):\n",
    "    out = []\n",
    "    ix = 0  # Start token index ('.')\n",
    "    while True:\n",
    "        xenc = F.one_hot(torch.tensor([ix]), num_classes=27).float()\n",
    "\n",
    "        # Forward pass\n",
    "        logits = xenc @ W\n",
    "        counts = logits.exp()\n",
    "        p = counts / counts.sum(1, keepdim=True)\n",
    "\n",
    "        # Sample next character from probability distribution\n",
    "        ix = torch.multinomial(p, num_samples=1, replacement=True, generator=g).item()\n",
    "\n",
    "        # Convert index to character and add to output\n",
    "        out.append(itos[ix])\n",
    "\n",
    "        # Stop if '.' is generated (end of word)\n",
    "        if ix == 0:\n",
    "            break\n",
    "\n",
    "    # Print the generated word\n",
    "    print(''.join(out))\n"
   ]
  },
  {
   "cell_type": "code",
   "execution_count": null,
   "id": "0869e627",
   "metadata": {},
   "outputs": [],
   "source": []
  }
 ],
 "metadata": {
  "kernelspec": {
   "display_name": "Python (nbenv-3.13.1)",
   "language": "python",
   "name": "nbenv-3.13.1"
  },
  "language_info": {
   "codemirror_mode": {
    "name": "ipython",
    "version": 3
   },
   "file_extension": ".py",
   "mimetype": "text/x-python",
   "name": "python",
   "nbconvert_exporter": "python",
   "pygments_lexer": "ipython3",
   "version": "3.13.1"
  }
 },
 "nbformat": 4,
 "nbformat_minor": 5
}
