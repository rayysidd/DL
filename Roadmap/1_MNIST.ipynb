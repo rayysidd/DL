{
 "cells": [
  {
   "cell_type": "code",
   "execution_count": 140,
   "id": "4a03362a",
   "metadata": {},
   "outputs": [],
   "source": [
    "import tensorflow as tf\n",
    "import torch"
   ]
  },
  {
   "cell_type": "code",
   "execution_count": 141,
   "id": "4dfb1236",
   "metadata": {},
   "outputs": [],
   "source": [
    "from keras.datasets import mnist"
   ]
  },
  {
   "cell_type": "code",
   "execution_count": 142,
   "id": "8c8a528d",
   "metadata": {},
   "outputs": [],
   "source": [
    "import matplotlib.pyplot as plt\n",
    "import numpy as np"
   ]
  },
  {
   "cell_type": "code",
   "execution_count": 143,
   "id": "d19870d0",
   "metadata": {},
   "outputs": [],
   "source": [
    "(X_train,y_train),(X_test,y_test) = tf.keras.datasets.mnist.load_data()"
   ]
  },
  {
   "cell_type": "code",
   "execution_count": 144,
   "id": "96e45f95",
   "metadata": {},
   "outputs": [
    {
     "name": "stdout",
     "output_type": "stream",
     "text": [
      "The shape of the training inputs: (60000, 28, 28)\n",
      "The shape of the training labels: (60000,)\n",
      "The shape of the testing inputs: (10000, 28, 28)\n",
      "The shape of the testing labels: (10000,)\n"
     ]
    }
   ],
   "source": [
    "print('The shape of the training inputs:', X_train.shape)\n",
    "print('The shape of the training labels:',y_train.shape)\n",
    "print('The shape of the testing inputs:',X_test.shape)\n",
    "print('The shape of the testing labels:',y_test.shape)"
   ]
  },
  {
   "cell_type": "code",
   "execution_count": 145,
   "id": "5ec834bf",
   "metadata": {},
   "outputs": [
    {
     "data": {
      "text/plain": [
       "<matplotlib.image.AxesImage at 0x324cf1b10>"
      ]
     },
     "execution_count": 145,
     "metadata": {},
     "output_type": "execute_result"
    },
    {
     "data": {
      "image/png": "[encoded data removed]",
      "text/plain": [
       "<Figure size 640x480 with 1 Axes>"
      ]
     },
     "metadata": {},
     "output_type": "display_data"
    }
   ],
   "source": [
    "plt.imshow(X_train[0])"
   ]
  },
  {
   "cell_type": "code",
   "execution_count": 146,
   "id": "2ce99ef6",
   "metadata": {},
   "outputs": [],
   "source": [
    "X_train=X_train/255\n",
    "X_test=X_test/255"
   ]
  },
  {
   "cell_type": "code",
   "execution_count": 147,
   "id": "ede60db8",
   "metadata": {},
   "outputs": [],
   "source": [
    "X_train_tensor = torch.tensor(X_train, dtype=torch.float32).squeeze(1)\n",
    "y_train_tensor = torch.tensor(y_train,dtype=torch.long)\n",
    "\n",
    "X_test_tensor = torch.tensor(X_test, dtype=torch.float32).unsqueeze(1)\n",
    "y_test_tensor = torch.tensor(y_test,dtype=torch.long)"
   ]
  },
  {
   "cell_type": "code",
   "execution_count": 148,
   "id": "951e2920",
   "metadata": {},
   "outputs": [],
   "source": [
    "import torch.nn as nn\n",
    "import torch.optim as optim\n",
    "from torch.utils.data import DataLoader, TensorDataset, random_split"
   ]
  },
  {
   "cell_type": "code",
   "execution_count": 149,
   "id": "c775c0da",
   "metadata": {},
   "outputs": [],
   "source": [
    "train_dataset = TensorDataset(X_train_tensor, y_train_tensor)\n",
    "test_dataset = TensorDataset(X_test_tensor, y_test_tensor)\n",
    "train_loader = DataLoader(train_dataset, batch_size=64, shuffle=True)\n",
    "test_loader = DataLoader(test_dataset, batch_size=100, shuffle=False)"
   ]
  },
  {
   "cell_type": "code",
   "execution_count": 150,
   "id": "c5035d07",
   "metadata": {},
   "outputs": [],
   "source": [
    "import torch.nn.functional as F"
   ]
  },
  {
   "cell_type": "code",
   "execution_count": 151,
   "id": "fd3ba50a",
   "metadata": {},
   "outputs": [],
   "source": [
    "class Model(nn.Module):\n",
    "    def __init__(self):\n",
    "        super(Model,self).__init__()\n",
    "        self.fc1 = nn.Linear(28*28,256)\n",
    "        self.bn1 = nn.BatchNorm1d(256)\n",
    "        self.fc2 = nn.Linear(256,128)\n",
    "        self.bn2 = nn.BatchNorm1d(128)\n",
    "        self.fc3 = nn.Linear(128, 64)\n",
    "        self.bn3 = nn.BatchNorm1d(64)\n",
    "        self.fc4 = nn.Linear(64, 10)\n",
    "        self.dropout = nn.Dropout(0.2)\n",
    "\n",
    "    def forward(self,x):\n",
    "        x = x.view(-1, 28 * 28)\n",
    "        x = F.relu(self.bn1(self.fc1(x)))\n",
    "        x = self.dropout(x)\n",
    "        x = F.relu(self.bn2(self.fc2(x)))\n",
    "        x = self.dropout(x)\n",
    "        x = F.relu(self.bn3(self.fc3(x)))\n",
    "        x = self.dropout(x)\n",
    "        x = self.fc4(x)\n",
    "        return F.log_softmax(x, dim=1)\n",
    "model = Model()"
   ]
  },
  {
   "cell_type": "code",
   "execution_count": 152,
   "id": "991011f2",
   "metadata": {},
   "outputs": [],
   "source": [
    "lossfn = nn.CrossEntropyLoss()\n"
   ]
  },
  {
   "cell_type": "code",
   "execution_count": 153,
   "id": "a3904f40",
   "metadata": {},
   "outputs": [],
   "source": [
    "optimizer = optim.Adam(model.parameters(),lr=0.0001)"
   ]
  },
  {
   "cell_type": "code",
   "execution_count": 154,
   "id": "077ffade",
   "metadata": {},
   "outputs": [
    {
     "data": {
      "text/plain": [
       "Parameter containing:\n",
       "tensor([[ 0.0458, -0.0412,  0.2803,  0.0614, -0.2156, -0.1786, -0.2659,  0.1546,\n",
       "          0.0970, -0.1027, -0.0978,  0.1859, -0.2148,  0.1599,  0.0606,  0.2101,\n",
       "         -0.0933, -0.1395,  0.1851, -0.1781,  0.1957, -0.2360, -0.2333, -0.0795,\n",
       "          0.0274,  0.1405,  0.1500,  0.0042, -0.1501,  0.1802, -0.2050,  0.2116,\n",
       "         -0.1614, -0.0431, -0.1466,  0.0829,  0.1920, -0.0322, -0.1826, -0.1296,\n",
       "          0.0591,  0.0089,  0.1046,  0.0223, -0.0947, -0.0567, -0.1648,  0.0341,\n",
       "          0.1493,  0.0185, -0.0895, -0.0191, -0.0023, -0.1853,  0.0021,  0.0060,\n",
       "          0.2349,  0.1010,  0.1353, -0.0946,  0.1327,  0.2049, -0.0910, -0.2605],\n",
       "        [-0.1673, -0.1804,  0.2797, -0.2026,  0.2773,  0.0437, -0.0343, -0.0396,\n",
       "          0.0079, -0.0828,  0.0459,  0.1671, -0.1787, -0.0062,  0.1836, -0.1724,\n",
       "         -0.1910, -0.1573,  0.0578, -0.0037, -0.2372,  0.2209,  0.1891, -0.0907,\n",
       "         -0.1463,  0.0738,  0.1354,  0.1594, -0.2284, -0.0180,  0.2714,  0.0117,\n",
       "         -0.2379, -0.0815,  0.0485, -0.2150, -0.2273, -0.0544,  0.0379, -0.0485,\n",
       "         -0.2078, -0.2746, -0.1231,  0.0309,  0.1770, -0.2778, -0.1146,  0.0012,\n",
       "         -0.1378, -0.0866,  0.1418, -0.1340,  0.1328,  0.1649,  0.0757,  0.0096,\n",
       "         -0.1389,  0.0596, -0.2244, -0.0259,  0.0939,  0.2449, -0.0139, -0.1929],\n",
       "        [ 0.0104,  0.1058, -0.1222,  0.0552,  0.2277,  0.1205,  0.0364,  0.0549,\n",
       "          0.2159, -0.1069, -0.2712, -0.0061,  0.1499, -0.0179, -0.1674,  0.1619,\n",
       "         -0.0329,  0.1695, -0.2378, -0.0601,  0.2757, -0.2787, -0.0661,  0.1044,\n",
       "         -0.0557,  0.1423,  0.2529, -0.1267,  0.2048, -0.1197,  0.2452, -0.0145,\n",
       "          0.1276,  0.2511,  0.1415,  0.2800,  0.1766, -0.1684, -0.2376,  0.1092,\n",
       "         -0.2336,  0.2614,  0.0993, -0.2205,  0.0536,  0.2125,  0.0563, -0.2407,\n",
       "         -0.2684,  0.1316,  0.0689, -0.2074, -0.1856,  0.0455, -0.2309, -0.0460,\n",
       "          0.1098, -0.2400,  0.2283,  0.0379,  0.1325,  0.2747,  0.0158, -0.1248],\n",
       "        [ 0.0031, -0.2022, -0.1981,  0.0345,  0.1814, -0.1911, -0.2680,  0.0168,\n",
       "          0.0080, -0.1894, -0.1533, -0.0773, -0.0153, -0.1046,  0.0226, -0.0913,\n",
       "          0.2385, -0.0888,  0.0242,  0.1034,  0.1269, -0.2711,  0.0593, -0.0349,\n",
       "          0.0214,  0.2213,  0.0864,  0.1025, -0.0569, -0.1344, -0.2184,  0.0347,\n",
       "         -0.2363,  0.2645,  0.0833, -0.2809,  0.0436,  0.1901, -0.2514,  0.0436,\n",
       "         -0.0363, -0.1531,  0.0546, -0.0405,  0.1914,  0.2665,  0.1175, -0.1317,\n",
       "          0.1417, -0.0463,  0.0591, -0.1187,  0.0654,  0.2659,  0.1184, -0.0366,\n",
       "          0.2271,  0.1923, -0.2076, -0.2214,  0.2777, -0.0640,  0.1939, -0.1522],\n",
       "        [ 0.0248,  0.0771,  0.2076,  0.1112,  0.2247,  0.0505, -0.1788, -0.1296,\n",
       "          0.2323,  0.1700,  0.0567,  0.0700,  0.0630, -0.1588,  0.2518, -0.2786,\n",
       "          0.1886, -0.0540, -0.2405,  0.2295,  0.2709, -0.1139, -0.2643, -0.1496,\n",
       "          0.1526,  0.2752, -0.2221,  0.0141, -0.2569, -0.2301, -0.1620, -0.2205,\n",
       "          0.2246, -0.0099,  0.1529, -0.0355,  0.1367, -0.2087, -0.1329,  0.0717,\n",
       "         -0.1456,  0.1538,  0.1788,  0.1008,  0.1494, -0.2452,  0.2372,  0.1312,\n",
       "          0.0864,  0.2474,  0.0866,  0.2767, -0.0006,  0.0648,  0.1871,  0.0853,\n",
       "         -0.0925,  0.0515,  0.0354, -0.1277,  0.1032, -0.0400,  0.0730, -0.1033],\n",
       "        [-0.0909, -0.1747, -0.0527, -0.0277,  0.0914,  0.1316,  0.2740, -0.0686,\n",
       "          0.1886, -0.1719, -0.0796, -0.2006, -0.1953, -0.2733,  0.1516,  0.0037,\n",
       "          0.1621,  0.0337, -0.2685,  0.0622, -0.1037, -0.1663, -0.2769, -0.0420,\n",
       "          0.1128,  0.0658,  0.2406,  0.0915, -0.1763,  0.2446,  0.1835, -0.2497,\n",
       "          0.0099, -0.1060, -0.1812,  0.1758, -0.0782, -0.0583,  0.2555,  0.0459,\n",
       "          0.0610,  0.0803, -0.2835,  0.1799,  0.0132, -0.2212, -0.0768, -0.1544,\n",
       "         -0.0049, -0.2530, -0.1949, -0.2479, -0.1968,  0.1002, -0.0913,  0.2535,\n",
       "          0.0168, -0.2256, -0.1606, -0.2769, -0.1463,  0.1509,  0.1901, -0.2383],\n",
       "        [-0.0743,  0.2559, -0.1065,  0.2204,  0.1363,  0.2837,  0.2092, -0.2094,\n",
       "          0.1611, -0.0384,  0.0224, -0.2579,  0.2513, -0.0943, -0.1829, -0.0848,\n",
       "          0.1490,  0.0917,  0.0556,  0.0111, -0.0207, -0.0024,  0.0453,  0.2292,\n",
       "          0.2064,  0.2203, -0.1506, -0.2707,  0.2625,  0.2157, -0.1522,  0.2372,\n",
       "          0.2458, -0.2755, -0.0124, -0.0442,  0.1009,  0.0891,  0.0210, -0.1391,\n",
       "         -0.1719,  0.0203,  0.2411,  0.0316, -0.0606, -0.1703,  0.0635, -0.2329,\n",
       "         -0.2163, -0.2760,  0.2654,  0.2299, -0.0224, -0.2670,  0.1357,  0.0534,\n",
       "         -0.0045, -0.0791, -0.0054, -0.0759,  0.0496, -0.2004, -0.2038,  0.0734],\n",
       "        [-0.2232, -0.0619, -0.1985, -0.0306, -0.2263,  0.0828, -0.0384, -0.2190,\n",
       "         -0.2270,  0.2515, -0.1466, -0.0038, -0.0367,  0.0512, -0.1635,  0.1835,\n",
       "          0.0970, -0.1032,  0.2566, -0.1628,  0.0950,  0.2804, -0.1680,  0.0618,\n",
       "         -0.0711,  0.2677, -0.1024,  0.2098, -0.1944, -0.0098,  0.0247, -0.1213,\n",
       "          0.0207, -0.0477,  0.1222,  0.1133,  0.2396, -0.1082,  0.2075,  0.1139,\n",
       "         -0.1233, -0.1930,  0.1853, -0.1981,  0.1337, -0.1337, -0.2333, -0.0972,\n",
       "         -0.2117, -0.2613,  0.1892,  0.0303,  0.1248,  0.1150,  0.1638, -0.1443,\n",
       "          0.0192,  0.2018,  0.2537,  0.0760, -0.1182, -0.0249, -0.0613,  0.0183],\n",
       "        [-0.2310, -0.1337, -0.2234,  0.1697, -0.2179,  0.0357,  0.2547,  0.0198,\n",
       "          0.1027,  0.0376, -0.0447,  0.2376, -0.0307,  0.1401, -0.0127,  0.1011,\n",
       "          0.0722, -0.2550,  0.2145, -0.2691, -0.0841, -0.1512,  0.0150, -0.2717,\n",
       "          0.0026, -0.1699, -0.2035,  0.1419, -0.1394,  0.2494,  0.0111,  0.2120,\n",
       "          0.2847, -0.1220,  0.0776, -0.1188, -0.1180, -0.1401, -0.2585,  0.0430,\n",
       "         -0.2070,  0.1512,  0.0190, -0.0729,  0.0259, -0.1038, -0.2311, -0.1548,\n",
       "         -0.0302,  0.1420,  0.1019, -0.1256, -0.1993,  0.1994,  0.1911,  0.1224,\n",
       "          0.1880,  0.2584,  0.0012,  0.2816,  0.2109,  0.1447, -0.0550,  0.2592],\n",
       "        [-0.1178,  0.2571,  0.1184,  0.1563, -0.1766,  0.2371, -0.1836,  0.1659,\n",
       "         -0.2199,  0.0557,  0.1790, -0.0033,  0.2818,  0.1699, -0.0242, -0.1984,\n",
       "          0.0287,  0.0095, -0.1239,  0.0867,  0.1629, -0.1139,  0.0235, -0.2756,\n",
       "          0.2370,  0.1222,  0.0381, -0.0909,  0.2458,  0.0200,  0.2603, -0.0944,\n",
       "          0.1075, -0.2414, -0.0256,  0.0533,  0.1687, -0.1799, -0.2162, -0.2726,\n",
       "          0.1626,  0.1831, -0.1123, -0.0151, -0.0276, -0.0519,  0.2040,  0.2273,\n",
       "         -0.1885, -0.2664, -0.0210, -0.1101, -0.2158,  0.2360, -0.0823,  0.0538,\n",
       "         -0.2173, -0.2511, -0.1826,  0.0200, -0.1115,  0.0008, -0.1567, -0.2206]],\n",
       "       requires_grad=True)"
      ]
     },
     "execution_count": 154,
     "metadata": {},
     "output_type": "execute_result"
    }
   ],
   "source": [
    "nn.init.xavier_uniform_(model.fc1.weight)\n",
    "nn.init.xavier_uniform_(model.fc2.weight)\n",
    "nn.init.xavier_uniform_(model.fc3.weight)\n",
    "nn.init.xavier_uniform_(model.fc4.weight)"
   ]
  },
  {
   "cell_type": "code",
   "execution_count": 155,
   "id": "72f56f77",
   "metadata": {},
   "outputs": [
    {
     "name": "stdout",
     "output_type": "stream",
     "text": [
      "Epoch 1/50, Loss: 0.977419\n",
      "Epoch 6/50, Loss: 0.188592\n",
      "Epoch 11/50, Loss: 0.126157\n",
      "Epoch 16/50, Loss: 0.093166\n",
      "Epoch 21/50, Loss: 0.075225\n",
      "Epoch 26/50, Loss: 0.062139\n",
      "Epoch 31/50, Loss: 0.055402\n",
      "Epoch 36/50, Loss: 0.047687\n",
      "Epoch 41/50, Loss: 0.040983\n",
      "Epoch 46/50, Loss: 0.035118\n"
     ]
    }
   ],
   "source": [
    "#training loop\n",
    "epochs = 50\n",
    "\n",
    "for epoch in range(epochs):\n",
    "    model.train()\n",
    "    running_loss=0\n",
    "\n",
    "    for image,labels in train_loader:\n",
    "        \n",
    "        #set gradients as zero\n",
    "        optimizer.zero_grad()\n",
    "\n",
    "        #forward pass\n",
    "        outputs = model(image)\n",
    "        loss = lossfn(outputs,labels)\n",
    "\n",
    "        #backward pass\n",
    "        loss.backward()\n",
    "\n",
    "        #optimiser\n",
    "        optimizer.step()\n",
    "\n",
    "        running_loss += loss.item()\n",
    "\n",
    "    if epoch%5==0:\n",
    "        print(f\"Epoch {epoch+1}/{epochs}, Loss: {running_loss/len(train_loader):4f}\")\n",
    "    "
   ]
  },
  {
   "cell_type": "code",
   "execution_count": 156,
   "id": "a67e0e73",
   "metadata": {},
   "outputs": [
    {
     "name": "stdout",
     "output_type": "stream",
     "text": [
      "Test Accuracy: 98.41%\n"
     ]
    }
   ],
   "source": [
    "model.eval()\n",
    "correct = 0\n",
    "total=0\n",
    "\n",
    "with torch.no_grad():\n",
    "    for images,labels in test_loader:\n",
    "        outputs=model(images)\n",
    "\n",
    "        _,predicted = torch.max(outputs,1)\n",
    "        total+=labels.size(0)\n",
    "        correct += (predicted == labels).sum().item() \n",
    "\n",
    "accuracy = 100 * correct / total\n",
    "print(f\"Test Accuracy: {accuracy:.2f}%\")"
   ]
  },
  {
   "cell_type": "code",
   "execution_count": null,
   "id": "a7ceb0a7",
   "metadata": {},
   "outputs": [],
   "source": []
  }
 ],
 "metadata": {
  "kernelspec": {
   "display_name": "Python 3.10 (TensorFlow)",
   "language": "python",
   "name": "tf-env"
  },
  "language_info": {
   "codemirror_mode": {
    "name": "ipython",
    "version": 3
   },
   "file_extension": ".py",
   "mimetype": "text/x-python",
   "name": "python",
   "nbconvert_exporter": "python",
   "pygments_lexer": "ipython3",
   "version": "3.10.13"
  }
 },
 "nbformat": 4,
 "nbformat_minor": 5
}
